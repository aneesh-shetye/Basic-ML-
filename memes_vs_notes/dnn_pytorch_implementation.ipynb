{
  "nbformat": 4,
  "nbformat_minor": 0,
  "metadata": {
    "colab": {
      "name": "memes_vs_notes_dnn.ipynb",
      "provenance": [],
      "collapsed_sections": [],
      "mount_file_id": "1QubYqaHn2d1KUYsBwyl0yucfXsXXNpTT",
      "authorship_tag": "ABX9TyOxr/YijL48+f9R9xEOY9By",
      "include_colab_link": true
    },
    "kernelspec": {
      "name": "python3",
      "display_name": "Python 3"
    }
  },
  "cells": [
    {
      "cell_type": "markdown",
      "metadata": {
        "id": "view-in-github",
        "colab_type": "text"
      },
      "source": [
        "<a href=\"https://colab.research.google.com/github/SonOfADev/memes_vs_notes/blob/master/dnn_pytorch_implementation.ipynb\" target=\"_parent\"><img src=\"https://colab.research.google.com/assets/colab-badge.svg\" alt=\"Open In Colab\"/></a>"
      ]
    },
    {
      "cell_type": "code",
      "metadata": {
        "id": "ZxRYN-6xcyxr",
        "colab_type": "code",
        "colab": {}
      },
      "source": [
        "import torch \n",
        "import numpy as np\n",
        "import PIL\n",
        "from PIL import Image\n",
        "import os\n",
        " \n",
        "folder = \"/content/drive/My Drive/Memes_vs_Notes/\"\n",
        "classes = [\"Memes\", \"Notes\"]"
      ],
      "execution_count": null,
      "outputs": []
    },
    {
      "cell_type": "code",
      "metadata": {
        "id": "hRjeD9N2dB9V",
        "colab_type": "code",
        "colab": {}
      },
      "source": [
        "from sklearn.utils import shuffle\n",
        "import cv2\n",
        "def load_data(folder, classes, IMG_HEIGHT, IMG_WIDTH):\n",
        "    data = []\n",
        "    labels = []\n",
        "    label = -1\n",
        "    for y in classes:\n",
        "        label += 1\n",
        "        path = folder + str(y)+\"/\"\n",
        "        for x in os.listdir(path):\n",
        "            img = cv2.imread(path + str(x))\n",
        "            img = cv2.resize(img,(IMG_WIDTH, IMG_HEIGHT))\n",
        "            img = cv2.cvtColor(img, cv2.COLOR_BGR2GRAY)\n",
        "            data.append(img)      \n",
        "            labels.append(label)\n",
        "    dataset = np.array([np.array(x) for x in data])\n",
        "    dataset, labels = shuffle (dataset, labels, random_state=0) \n",
        "    dataset = torch.Tensor(dataset)\n",
        "    labels = torch.Tensor(labels)  \n",
        "     a = np.array([1,2,3,4])\n",
        "a[-4:]\n",
        "    return dataset, labels\n"
      ],
      "execution_count": null,
      "outputs": []
    },
    {
      "cell_type": "code",
      "metadata": {
        "id": "wrac7RchdqDI",
        "colab_type": "code",
        "colab": {}
      },
      "source": [
        "IMG_HEIGHT = 50\n",
        "IMG_WIDTH = 50\n",
        "data, labels = load_data(folder, classes, IMG_HEIGHT, IMG_WIDTH)"
      ],
      "execution_count": null,
      "outputs": []
    },
    {
      "cell_type": "code",
      "metadata": {
        "id": "2muVSEPVg1jH",
        "colab_type": "code",
        "colab": {
          "base_uri": "https://localhost:8080/"
        },
        "outputId": "ce44c069-ec65-42c3-aab0-849c7c813181"
      },
      "source": [
        "device =  torch.device(\"cpu\")\n",
        "data = data/255\n",
        "data.to(device)\n",
        "labels.to(device)\n",
        "\n",
        "data.shape, labels.shape"
      ],
      "execution_count": null,
      "outputs": [
        {
          "output_type": "execute_result",
          "data": {
            "text/plain": [
              "(torch.Size([1600, 50, 50]), torch.Size([1600]))"
            ]
          },
          "metadata": {
            "tags": []
          },
          "execution_count": 4
        }
      ]
    },
    {
      "cell_type": "code",
      "metadata": {
        "id": "jjurDeuJhK4D",
        "colab_type": "code",
        "colab": {}
      },
      "source": [
        "import torch.nn.functional as F\n",
        "import torch.nn as nn\n",
        "class DNN(nn.Module):\n",
        "    def __init__(self):\n",
        "        super().__init__()\n",
        "        self.layer1 = nn.Sequential(\n",
        "            nn.Linear(2500, 3200),\n",
        "            nn.ReLU()\n",
        "        )\n",
        "        self.layer2 = nn.Linear(3200, 1600)\n",
        "        self.layer4 = nn.Linear (1600, 800)\n",
        "        self.layer3 = nn.Linear(800,1)\n",
        "\n",
        "    def forward(self,x): \n",
        "        x = x.reshape(-1, 2500)\n",
        "        out = self.layer1(x)\n",
        "        #res = out\n",
        "        out = F.relu(self.layer2(out))\n",
        "        #out = F.relu(res + self.layer2(out))\n",
        "        out = F.relu(self.layer4(out))\n",
        "        out = self.layer3(out)\n",
        "        return out\n"
      ],
      "execution_count": null,
      "outputs": []
    },
    {
      "cell_type": "code",
      "metadata": {
        "id": "P_g-FTUU0Y9K",
        "colab_type": "code",
        "colab": {}
      },
      "source": [
        "model = DNN()\n",
        "learning_rate = 0.0001\n",
        "criterion = torch.nn.BCEWithLogitsLoss()\n",
        "optimizer = torch.optim.Adam(model.parameters(), lr=learning_rate)"
      ],
      "execution_count": null,
      "outputs": []
    },
    {
      "cell_type": "code",
      "metadata": {
        "id": "KZqRUtL41Kqb",
        "colab_type": "code",
        "colab": {
          "base_uri": "https://localhost:8080/"
        },
        "outputId": "7852222b-20d4-463e-ca2a-5b73cd57fdb4"
      },
      "source": [
        "\n",
        "train_data = data[:1000]\n",
        "train_labels = labels[:1000]\n",
        "valid_data = data[1000:1300]\n",
        "valid_labels = labels[1000:1300]\n",
        "test_data = data[1300:1600]\n",
        "test_labels = labels[1300:1600]\n",
        "np.shape(train_data)\n",
        "\n",
        "# train_data = train_data.to(device)\n",
        "# train_labels = train_labels.to(device)\n",
        "\n",
        "# valid_data = valid_data.to(device)\n",
        "# valid_lables = valid_labels.to(device)\n",
        "\n",
        "# test_data = test_data.to(device)\n",
        "# test_labels = test_labels.to(device)\n",
        "train_data.shape"
      ],
      "execution_count": null,
      "outputs": [
        {
          "output_type": "execute_result",
          "data": {
            "text/plain": [
              "torch.Size([1000, 50, 50])"
            ]
          },
          "metadata": {
            "tags": []
          },
          "execution_count": 7
        }
      ]
    },
    {
      "cell_type": "code",
      "metadata": {
        "id": "x5jJsJ3r2OCW",
        "colab_type": "code",
        "colab": {
          "base_uri": "https://localhost:8080/"
        },
        "outputId": "039399d2-b0e1-4e39-d74f-e75cd91610bd"
      },
      "source": [
        "#train_labels = train_labels.type(torch.LongTensor) \n",
        "train_labels = train_labels.unsqueeze(-1)\n",
        "valid_labels = valid_labels.unsqueeze(-1)\n",
        "test_labels = test_labels.unsqueeze(-1)\n",
        "train_labels.type(), train_labels.shape"
      ],
      "execution_count": null,
      "outputs": [
        {
          "output_type": "execute_result",
          "data": {
            "text/plain": [
              "('torch.FloatTensor', torch.Size([1000, 1]))"
            ]
          },
          "metadata": {
            "tags": []
          },
          "execution_count": 8
        }
      ]
    },
    {
      "cell_type": "code",
      "metadata": {
        "id": "YxXSBvdB1YlA",
        "colab_type": "code",
        "colab": {
          "base_uri": "https://localhost:8080/",
          "height": 757
        },
        "outputId": "4ef94554-01bf-4423-f525-70ff6c87fbbb"
      },
      "source": [
        "import torch.nn.functional as F\n",
        "num_epochs = 10\n",
        "loss_list = []\n",
        "acc_list = []\n",
        "for epoch in range(num_epochs):\n",
        "    total = 0\n",
        "    correct = 0\n",
        "    #for i, (images, labels) in enumerate(train_loader):\n",
        "        # Run the forward pass\n",
        "        #data_iter = train_data[:i]\n",
        "        #labels_iter = labels[:i]\n",
        "    outputs = model(train_data)\n",
        "    loss = criterion(outputs, train_labels)\n",
        "    loss_list.append(loss.item())\n",
        "\n",
        "    # Backprop and perform Adam optimisation\n",
        "    optimizer.zero_grad()\n",
        "    loss.backward()\n",
        "    optimizer.step()\n",
        "\n",
        "    # Track the accuracy\n",
        "        \n",
        "    with torch.no_grad():\n",
        "        #outputs = net(images)\n",
        "        outputs_valid = model(valid_data)\n",
        "        valid_loss = criterion(outputs_valid, valid_labels)\n",
        "\n",
        "        predicted_valid = (F.sigmoid(outputs_valid.data)>0.5)\n",
        "\n",
        "        predicted = (F.sigmoid(outputs.data)>0.5)\n",
        "\n",
        "        total = train_labels.size(0)\n",
        "        correct = (predicted == train_labels).sum().item()\n",
        "\n",
        "        total_valid = valid_labels.size(0)\n",
        "        correct_valid = (predicted_valid == valid_labels).sum().item()\n",
        "\n",
        "    print(\"training accuracy %d %%\" %(100*correct/total ))\n",
        "    print('validation Accuracy: %d %%' % (100 * correct_valid / total_valid))\n",
        "    print(f\"test loss = {loss}\")\n",
        "    print(f\"validation loss = {valid_loss}\") "
      ],
      "execution_count": null,
      "outputs": [
        {
          "output_type": "stream",
          "text": [
            "/usr/local/lib/python3.6/dist-packages/torch/nn/functional.py:1625: UserWarning: nn.functional.sigmoid is deprecated. Use torch.sigmoid instead.\n",
            "  warnings.warn(\"nn.functional.sigmoid is deprecated. Use torch.sigmoid instead.\")\n"
          ],
          "name": "stderr"
        },
        {
          "output_type": "stream",
          "text": [
            "training accuracy 52 %\n",
            "validation Accuracy: 59 %\n",
            "test loss = 0.6923733353614807\n",
            "validation loss = 0.66102534532547\n",
            "training accuracy 54 %\n",
            "validation Accuracy: 79 %\n",
            "test loss = 0.6657779812812805\n",
            "validation loss = 0.6396945118904114\n",
            "training accuracy 77 %\n",
            "validation Accuracy: 84 %\n",
            "test loss = 0.6404204368591309\n",
            "validation loss = 0.6133846044540405\n",
            "training accuracy 85 %\n",
            "validation Accuracy: 81 %\n",
            "test loss = 0.6104450821876526\n",
            "validation loss = 0.5774989724159241\n",
            "training accuracy 82 %\n",
            "validation Accuracy: 82 %\n",
            "test loss = 0.574353814125061\n",
            "validation loss = 0.5422399044036865\n",
            "training accuracy 83 %\n",
            "validation Accuracy: 84 %\n",
            "test loss = 0.535377562046051\n",
            "validation loss = 0.5075803399085999\n",
            "training accuracy 85 %\n",
            "validation Accuracy: 82 %\n",
            "test loss = 0.4936813414096832\n",
            "validation loss = 0.4667215347290039\n",
            "training accuracy 83 %\n",
            "validation Accuracy: 84 %\n",
            "test loss = 0.4526608884334564\n",
            "validation loss = 0.4437885582447052\n",
            "training accuracy 85 %\n",
            "validation Accuracy: 80 %\n",
            "test loss = 0.41881534457206726\n",
            "validation loss = 0.4130662679672241\n",
            "training accuracy 82 %\n",
            "validation Accuracy: 81 %\n",
            "test loss = 0.39625686407089233\n",
            "validation loss = 0.420749694108963\n"
          ],
          "name": "stdout"
        }
      ]
    },
    {
      "cell_type": "code",
      "metadata": {
        "id": "AKedzOHd1_LX",
        "colab_type": "code",
        "colab": {}
      },
      "source": [
        ""
      ],
      "execution_count": null,
      "outputs": []
    }
  ]
}