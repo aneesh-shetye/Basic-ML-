{
 "cells": [
  {
   "cell_type": "code",
   "execution_count": 2,
   "metadata": {},
   "outputs": [],
   "source": [
    "import numpy as np"
   ]
  },
  {
   "cell_type": "code",
   "execution_count": 3,
   "metadata": {},
   "outputs": [],
   "source": [
    "def forward_prop(A_prev, W, b):\n",
    "    Z = np.dot(W, A_prev)+b\n",
    "    \n",
    "    return Z"
   ]
  },
  {
   "cell_type": "code",
   "execution_count": 10,
   "metadata": {},
   "outputs": [],
   "source": [
    "def initialization(next_layer_dims, prev_layer_dims, initializer=\"relu\"):\n",
    "    W  = np.random.randn(next_layer_dims, prev_layer_dims)*0.01\n",
    "    b = np.zeros([next_layer_dims,1])\n",
    "    \n",
    "    if initializer == \"relu\":\n",
    "        W = W*np.sqrt(2/prev_layer_dims)\n",
    "    if initializer == \"Xavier\":\n",
    "        W = W*np.sqrt(2/(prev_layer_dims+next_layer_dims))\n",
    "    \n",
    "    return W, b"
   ]
  },
  {
   "cell_type": "code",
   "execution_count": 4,
   "metadata": {},
   "outputs": [],
   "source": [
    "def activation_function(Z, activation):\n",
    "    #if activation == 'sigmoid':\n",
    "      #  A = 1/(1+np.exp(-Z))\n",
    "\n",
    "    if activation == 'relu':\n",
    "        A = np.maximum(Z, 0)\n",
    "        \n",
    "    if activation == 'softmax':\n",
    "        A = np.exp(Z)\n",
    "        sum = A.sum(axis = 0, keepdims=True)\n",
    "        A = A/sum\n",
    "        \n",
    "    return A"
   ]
  },
  {
   "cell_type": "code",
   "execution_count": 5,
   "metadata": {},
   "outputs": [
    {
     "name": "stdout",
     "output_type": "stream",
     "text": [
      "[[0.00235563 0.00235563 0.00235563]\n",
      " [0.04731416 0.04731416 0.04731416]\n",
      " [0.95033021 0.95033021 0.95033021]]\n"
     ]
    }
   ],
   "source": [
    "\n",
    "\n",
    "Z = np.array([[1,2,3],[4,5,6],[7,8,9]])\n",
    "A = activation_function(Z, \"softmax\")\n",
    "print(A)\n",
    "\n",
    "\n"
   ]
  },
  {
   "cell_type": "code",
   "execution_count": 6,
   "metadata": {},
   "outputs": [],
   "source": [
    "def cost_function(AL, label):\n",
    "\n",
    "    m = AL.shape[1]\n",
    "   # cost = -1/m*(np.sum(label*np.log(AL)+(1-label)*np.log(1-AL)))\n",
    "    cost = -1/m*(np.sum(label*np.log(AL)))\n",
    "    assert(cost.shape == ())\n",
    "\n",
    "    return cost"
   ]
  },
  {
   "cell_type": "code",
   "execution_count": 7,
   "metadata": {},
   "outputs": [
    {
     "data": {
      "text/plain": [
       "'\\nZ = np.array([[1,2,3],[4,5,6],[7,8,9]])\\nA = activation_function(Z, \"softmax\")\\nlabel = [[1,0,0],[0,1,0],[0,0,1]]\\ncost_function(A, label)\\n'"
      ]
     },
     "execution_count": 7,
     "metadata": {},
     "output_type": "execute_result"
    }
   ],
   "source": [
    "\n",
    "'''\n",
    "Z = np.array([[1,2,3],[4,5,6],[7,8,9]])\n",
    "A = activation_function(Z, \"softmax\")\n",
    "label = [[1,0,0],[0,1,0],[0,0,1]]\n",
    "cost_function(A, label)\n",
    "'''"
   ]
  },
  {
   "cell_type": "code",
   "execution_count": 8,
   "metadata": {},
   "outputs": [],
   "source": [
    "def relu_grad(dA, A):\n",
    "    dZ = np.array(dA, copy=True)\n",
    "    \n",
    "    dZ[A == 0] = 0\n",
    "    return dZ\n",
    "     "
   ]
  },
  {
   "cell_type": "code",
   "execution_count": 9,
   "metadata": {},
   "outputs": [],
   "source": [
    "def softmax_grad(A , label):\n",
    "    return A - label"
   ]
  },
  {
   "cell_type": "code",
   "execution_count": 10,
   "metadata": {},
   "outputs": [
    {
     "data": {
      "text/plain": [
       "'\\nZ = np.array([[1,2,3],[4,5,6],[7,8,9]])\\nA = activation_function(Z, \"softmax\")\\nlabel = [[1,0,0],[0,1,0],[0,0,1]]\\ndA = softmax_grad(A, label)\\nprint(dA)\\n'"
      ]
     },
     "execution_count": 10,
     "metadata": {},
     "output_type": "execute_result"
    }
   ],
   "source": [
    "'''\n",
    "Z = np.array([[1,2,3],[4,5,6],[7,8,9]])\n",
    "A = activation_function(Z, \"softmax\")\n",
    "label = [[1,0,0],[0,1,0],[0,0,1]]\n",
    "dA = softmax_grad(A, label)\n",
    "print(dA)\n",
    "'''"
   ]
  },
  {
   "cell_type": "code",
   "execution_count": 11,
   "metadata": {},
   "outputs": [],
   "source": [
    "def backward_prop(dZ, A_prev, W ):\n",
    "\n",
    "    m = A_prev.shape[1]\n",
    "    dW = 1/m*(np.dot(dZ, A_prev.T))\n",
    "    db = 1/m*np.sum(dZ)\n",
    "    dA_prev = np.dot(W.T, dZ)\n",
    "\n",
    "    return dA_prev, dW, db"
   ]
  },
  {
   "cell_type": "code",
   "execution_count": 127,
   "metadata": {},
   "outputs": [],
   "source": [
    "def training_model(no_of_layers, nL, X, Y, learning_rate, EPOCHS):\n",
    "\n",
    "    param= {}\n",
    "    results={\"A0\":X}\n",
    "    \n",
    "    Z = {}\n",
    "    cost =[]\n",
    "    #initializing parameters:\n",
    "    for l in range(1, no_of_layers):\n",
    "        param[\"W\" + str(l)], param[\"b\" + str(l)] = initialization(nL[l],nL[l-1])   \n",
    "        W = param[\"W\" + str(l)]\n",
    "        x = W.shape\n",
    "        #print(\"W\"+str(l)+\" = \"+ str(x))\n",
    "\n",
    "    for epochs in range(EPOCHS):\n",
    "        for l in range(1, no_of_layers-1):\n",
    "            \n",
    "            #initialization of parameters \n",
    "            W = param[\"W\" + str(l)]\n",
    "            b = param[\"b\" + str(l)]\n",
    "\n",
    "            #forward propogation \n",
    "            Z[\"Z\"+ str(l)] = forward_prop(results[\"A\" + str(l-1)], W, b)\n",
    "            results[\"A\"+ str(l)] = activation_function( Z[\"Z\"+str(l)], activation=\"relu\")\n",
    "            ##################################\n",
    "            '''\n",
    "            z = Z[\"Z\"+ str(l)] \n",
    "            As = results[\"A\"+ str(l)]\n",
    "            y = z.shape\n",
    "            a_shape = As.shape\n",
    "            print(\"Z\"+str(l)+\" = \"+ str(y))\n",
    "            print(\"A\"+str(l)+\" = \"+ str(a_shape))\n",
    "            '''\n",
    "                \n",
    "\n",
    "            ################################\n",
    "        Z[\"Z\" + str(no_of_layers-1)] = forward_prop(results[\"A\" + str(no_of_layers-2 )], param[\"W\"+str(no_of_layers-1)], param[\"b\"+str(no_of_layers-1)])\n",
    "        results[\"A\"+ str(no_of_layers-1)] = activation_function( Z[\"Z\"+ str(no_of_layers-1)], activation=\"softmax\")\n",
    "        if epochs%100 == 0:\n",
    "            print(results[\"A\"+ str(no_of_layers-1)])\n",
    "            ##############################\n",
    "        '''\n",
    "        z = Z[\"Z\"+ str(no_of_layers-1)] \n",
    "        As = results[\"A\"+ str(no_of_layers-1)]\n",
    "        y = z.shape\n",
    "        a_shape = As.shape\n",
    "        print(\"Z\"+str(no_of_layers-1)+\" = \"+ str(y))\n",
    "        print(\"A\"+str(no_of_layers-1)+\" = \"+ str(a_shape))\n",
    "        '''\n",
    "\n",
    "        \n",
    "\n",
    "            #################################\n",
    "        #finding cost:\n",
    "\n",
    "        cost_ = cost_function(results[\"A\"+ str(no_of_layers-1)], Y)\n",
    "        cost.append(cost_)\n",
    "        if epochs%10 == 0:\n",
    "            print(cost_)\n",
    "      \n",
    "        #backward prop :\n",
    "        grads = {}\n",
    "\n",
    "        AL = results[\"A\"+ str(no_of_layers-1)]\n",
    "        #print(AL.shape)\n",
    "        grads[\"dA\"+str(no_of_layers-1)] = -(np.divide(Y, AL) - np.divide(1 - Y, 1 - AL))\n",
    "        #dZ = grads[\"dA\"+str(no_of_layers-1)]*sigmoid_grad(AL)\n",
    "        dZ = softmax_grad(AL , Y)\n",
    "        \n",
    "        ####################\n",
    "        \n",
    "        #print(\"dZ\"+str(no_of_layers-1)+\" = \"+ str(dZ.shape))\n",
    "       \n",
    "\n",
    "        ###################\n",
    "        for l in range(no_of_layers-1,0,-1):\n",
    "            grads[\"dA\"+str(l-1)],  grads[\"dW\"+str(l)], grads[\"db\"+str(l)] = backward_prop(dZ, results[\"A\"+str(l-1)], param[\"W\"+str(l)] )\n",
    "            dZ = relu_grad(grads[\"dA\"+str(l-1)],results[\"A\"+str(l-1)])\n",
    "            #####################\n",
    "            '''\n",
    "            shape1 = grads[\"dA\"+str(l-1)].shape\n",
    "            print(\"dA\"+str(l-1)+\" = \"+ str(shape1))\n",
    "            shape2 = grads[\"dW\"+str(l)].shape\n",
    "            print(\"dW\"+str(l)+\" = \"+ str(shape2))\n",
    "            shape3 = grads[\"db\"+str(l)].shape\n",
    "            print(\"db\"+str(l)+\" = \"+ str(shape3))\n",
    "            \n",
    "              if epochs%10 == 0:\n",
    "                print(grads[\"dW\"+str(l)])\n",
    "                print(\"\\n\")\n",
    "                '''\n",
    "        # updating the parameters:\n",
    "\n",
    "        for l in range(1,no_of_layers):\n",
    "            param[\"W\"+str(l)] = param[\"W\"+str(l)] - learning_rate*grads[\"dW\"+str(l)]\n",
    "            param[\"b\"+str(l)] = param[\"b\"+str(l)] - learning_rate*grads[\"db\"+str(l)] \n",
    "        \n",
    "    plt.plot(cost,range(1,201))\n",
    "            \n",
    "    return param\n"
   ]
  },
  {
   "cell_type": "code",
   "execution_count": 91,
   "metadata": {},
   "outputs": [],
   "source": [
    "import h5py\n",
    "from tf_utils import load_dataset"
   ]
  },
  {
   "cell_type": "code",
   "execution_count": 98,
   "metadata": {},
   "outputs": [
    {
     "name": "stdout",
     "output_type": "stream",
     "text": [
      "(6, 1080)\n",
      "1080\n",
      "(12288, 1080)\n"
     ]
    }
   ],
   "source": [
    "X_train_orig, Y_train_orig, X_test_orig, Y_test_orig, classes = load_dataset()\n",
    "X_train_flatten = X_train_orig.reshape(X_train_orig.shape[0], -1).T\n",
    "X_test_flatten = X_test_orig.reshape(X_test_orig.shape[0], -1).T\n",
    "X_train = X_train_flatten/255.\n",
    "X_test = X_test_flatten/255.\n",
    "Y_train = np.zeros([6,Y_train_orig.shape[1]])\n",
    "Y_test = np.zeros([6,Y_test_orig.shape[1]])\n",
    "print(Y_train.shape)\n",
    "print(Y_train.shape[1])\n",
    "for y in range(Y_train.shape[1]):\n",
    "    Y_train[Y_train_orig[0,y] ,y] =  1\n",
    "for y in range(Y_test.shape[1]):\n",
    "    Y_test[Y_test_orig[0,y] ,y] =  1\n",
    "print(X_train.shape)"
   ]
  },
  {
   "cell_type": "code",
   "execution_count": 113,
   "metadata": {},
   "outputs": [
    {
     "name": "stdout",
     "output_type": "stream",
     "text": [
      "[0. 0. 1. 0. 0. 0.]\n",
      "(12288,)\n"
     ]
    },
    {
     "data": {
      "image/png": "[encoded data removed]",
      "text/plain": [
       "<Figure size 432x288 with 1 Axes>"
      ]
     },
     "metadata": {
      "needs_background": "light"
     },
     "output_type": "display_data"
    }
   ],
   "source": [
    "import matplotlib.pyplot as plt\n",
    "plt.imshow(X_train_orig[2])\n",
    "print(Y_train[:,2])\n",
    "print(X_train[:,1].shape)"
   ]
  },
  {
   "cell_type": "code",
   "execution_count": 128,
   "metadata": {},
   "outputs": [
    {
     "name": "stdout",
     "output_type": "stream",
     "text": [
      "[[0.16666695]\n",
      " [0.16666671]\n",
      " [0.16666633]\n",
      " [0.16666615]\n",
      " [0.16666736]\n",
      " [0.1666665 ]]\n",
      "1.7917577732741499\n",
      "1.7917413633222097\n",
      "1.789508839942171\n",
      "0.9441799690514845\n",
      "0.029430200537555205\n",
      "0.011828473350651326\n",
      "0.00710811846174905\n",
      "0.00499095276575398\n",
      "0.003807445621361152\n",
      "0.0030582428235296005\n",
      "[[9.97458924e-01]\n",
      " [4.92804434e-04]\n",
      " [4.93880751e-04]\n",
      " [5.03197545e-04]\n",
      " [5.42520266e-04]\n",
      " [5.08673243e-04]]\n",
      "0.002544310253040193\n",
      "0.002171369860725625\n",
      "0.0018892384883442746\n",
      "0.0016688515796789288\n",
      "0.001492256314774982\n",
      "0.0013477904584589882\n",
      "0.001227561079140655\n",
      "0.001126043082017316\n",
      "0.0010392578417780995\n",
      "0.0009642703438052254\n"
     ]
    },
    {
     "data": {
      "image/png": "[encoded data removed]",
      "text/plain": [
       "<Figure size 432x288 with 1 Axes>"
      ]
     },
     "metadata": {
      "needs_background": "light"
     },
     "output_type": "display_data"
    }
   ],
   "source": [
    "nL = [X_train.shape[0],256,128, 32, 16,6]\n",
    "\n",
    "X =X_train[:,1]\n",
    "X = X.reshape(len(X),1)\n",
    "Y = Y_train[:,1]\n",
    "Y = Y.reshape(len(Y),1)\n",
    "params = training_model(6, nL,X , Y, learning_rate=0.1, EPOCHS=200 )"
   ]
  },
  {
   "cell_type": "code",
   "execution_count": null,
   "metadata": {},
   "outputs": [],
   "source": []
  },
  {
   "cell_type": "code",
   "execution_count": 81,
   "metadata": {},
   "outputs": [],
   "source": [
    "def predict(param,no_of_layers, nL, X, Y):\n",
    "        results={\"A0\":X}\n",
    "    \n",
    "        Z = {}\n",
    "        for l in range(1, no_of_layers-1):\n",
    "            \n",
    "            #initialization of parameters \n",
    "            W = param[\"W\" + str(l)]\n",
    "            b = param[\"b\" + str(l)]\n",
    "\n",
    "            #forward propogation \n",
    "            Z[\"Z\"+ str(l)] = forward_prop(results[\"A\" + str(l-1)], W, b)\n",
    "            results[\"A\"+ str(l)] = activation_function( Z[\"Z\"+str(l)], activation=\"relu\")\n",
    "            ##################################\n",
    "            '''\n",
    "            z = Z[\"Z\"+ str(l)] \n",
    "            As = results[\"A\"+ str(l)]\n",
    "            y = z.shape\n",
    "            a_shape = As.shape\n",
    "            print(\"Z\"+str(l)+\" = \"+ str(y))\n",
    "            print(\"A\"+str(l)+\" = \"+ str(a_shape))\n",
    "            '''\n",
    "                \n",
    "\n",
    "            ################################\n",
    "        Z[\"Z\" + str(no_of_layers-1)] = forward_prop(results[\"A\" + str(no_of_layers-2 )], param[\"W\"+str(no_of_layers-1)], param[\"b\"+str(no_of_layers-1)])\n",
    "        results[\"A\"+ str(no_of_layers-1)] = activation_function( Z[\"Z\"+ str(no_of_layers-1)], activation=\"softmax\")\n",
    "      \n",
    "            ##############################\n",
    "        '''\n",
    "        z = Z[\"Z\"+ str(no_of_layers-1)] \n",
    "        As = results[\"A\"+ str(no_of_layers-1)]\n",
    "        y = z.shape\n",
    "        a_shape = As.shape\n",
    "        print(\"Z\"+str(no_of_layers-1)+\" = \"+ str(y))\n",
    "        print(\"A\"+str(no_of_layers-1)+\" = \"+ str(a_shape))\n",
    "        '''\n",
    "\n",
    "        \n",
    "\n",
    "            #################################\n",
    "        #finding cost:\n",
    "\n",
    "        cost_ = cost_function(results[\"A\"+ str(no_of_layers-1)], Y)\n",
    "        cost.append(cost_)\n",
    "        print(cost_)\n",
    "    \n"
   ]
  },
  {
   "cell_type": "code",
   "execution_count": 82,
   "metadata": {},
   "outputs": [
    {
     "ename": "ValueError",
     "evalue": "operands could not be broadcast together with shapes (6,1080) (16,1080) ",
     "output_type": "error",
     "traceback": [
      "\u001b[0;31m---------------------------------------------------------------------------\u001b[0m",
      "\u001b[0;31mValueError\u001b[0m                                Traceback (most recent call last)",
      "\u001b[0;32m<ipython-input-82-a750202c86d3>\u001b[0m in \u001b[0;36m<module>\u001b[0;34m\u001b[0m\n\u001b[0;32m----> 1\u001b[0;31m \u001b[0mpredict\u001b[0m\u001b[0;34m(\u001b[0m\u001b[0mparams\u001b[0m\u001b[0;34m,\u001b[0m\u001b[0;36m5\u001b[0m\u001b[0;34m,\u001b[0m \u001b[0mnL\u001b[0m\u001b[0;34m,\u001b[0m \u001b[0mX_train\u001b[0m\u001b[0;34m,\u001b[0m \u001b[0mY_train\u001b[0m\u001b[0;34m)\u001b[0m\u001b[0;34m\u001b[0m\u001b[0;34m\u001b[0m\u001b[0m\n\u001b[0m",
      "\u001b[0;32m<ipython-input-81-c89c5920ee09>\u001b[0m in \u001b[0;36mpredict\u001b[0;34m(param, no_of_layers, nL, X, Y)\u001b[0m\n\u001b[1;32m     42\u001b[0m         \u001b[0;31m#finding cost:\u001b[0m\u001b[0;34m\u001b[0m\u001b[0;34m\u001b[0m\u001b[0;34m\u001b[0m\u001b[0m\n\u001b[1;32m     43\u001b[0m \u001b[0;34m\u001b[0m\u001b[0m\n\u001b[0;32m---> 44\u001b[0;31m         \u001b[0mcost_\u001b[0m \u001b[0;34m=\u001b[0m \u001b[0mcost_function\u001b[0m\u001b[0;34m(\u001b[0m\u001b[0mresults\u001b[0m\u001b[0;34m[\u001b[0m\u001b[0;34m\"A\"\u001b[0m\u001b[0;34m+\u001b[0m \u001b[0mstr\u001b[0m\u001b[0;34m(\u001b[0m\u001b[0mno_of_layers\u001b[0m\u001b[0;34m-\u001b[0m\u001b[0;36m1\u001b[0m\u001b[0;34m)\u001b[0m\u001b[0;34m]\u001b[0m\u001b[0;34m,\u001b[0m \u001b[0mY\u001b[0m\u001b[0;34m)\u001b[0m\u001b[0;34m\u001b[0m\u001b[0;34m\u001b[0m\u001b[0m\n\u001b[0m\u001b[1;32m     45\u001b[0m         \u001b[0mcost\u001b[0m\u001b[0;34m.\u001b[0m\u001b[0mappend\u001b[0m\u001b[0;34m(\u001b[0m\u001b[0mcost_\u001b[0m\u001b[0;34m)\u001b[0m\u001b[0;34m\u001b[0m\u001b[0;34m\u001b[0m\u001b[0m\n\u001b[1;32m     46\u001b[0m         \u001b[0mprint\u001b[0m\u001b[0;34m(\u001b[0m\u001b[0mcost_\u001b[0m\u001b[0;34m)\u001b[0m\u001b[0;34m\u001b[0m\u001b[0;34m\u001b[0m\u001b[0m\n",
      "\u001b[0;32m<ipython-input-6-045ce4ab8154>\u001b[0m in \u001b[0;36mcost_function\u001b[0;34m(AL, label)\u001b[0m\n\u001b[1;32m      3\u001b[0m     \u001b[0mm\u001b[0m \u001b[0;34m=\u001b[0m \u001b[0mAL\u001b[0m\u001b[0;34m.\u001b[0m\u001b[0mshape\u001b[0m\u001b[0;34m[\u001b[0m\u001b[0;36m1\u001b[0m\u001b[0;34m]\u001b[0m\u001b[0;34m\u001b[0m\u001b[0;34m\u001b[0m\u001b[0m\n\u001b[1;32m      4\u001b[0m    \u001b[0;31m# cost = -1/m*(np.sum(label*np.log(AL)+(1-label)*np.log(1-AL)))\u001b[0m\u001b[0;34m\u001b[0m\u001b[0;34m\u001b[0m\u001b[0;34m\u001b[0m\u001b[0m\n\u001b[0;32m----> 5\u001b[0;31m     \u001b[0mcost\u001b[0m \u001b[0;34m=\u001b[0m \u001b[0;34m-\u001b[0m\u001b[0;36m1\u001b[0m\u001b[0;34m/\u001b[0m\u001b[0mm\u001b[0m\u001b[0;34m*\u001b[0m\u001b[0;34m(\u001b[0m\u001b[0mnp\u001b[0m\u001b[0;34m.\u001b[0m\u001b[0msum\u001b[0m\u001b[0;34m(\u001b[0m\u001b[0mlabel\u001b[0m\u001b[0;34m*\u001b[0m\u001b[0mnp\u001b[0m\u001b[0;34m.\u001b[0m\u001b[0mlog\u001b[0m\u001b[0;34m(\u001b[0m\u001b[0mAL\u001b[0m\u001b[0;34m)\u001b[0m\u001b[0;34m)\u001b[0m\u001b[0;34m)\u001b[0m\u001b[0;34m\u001b[0m\u001b[0;34m\u001b[0m\u001b[0m\n\u001b[0m\u001b[1;32m      6\u001b[0m     \u001b[0;32massert\u001b[0m\u001b[0;34m(\u001b[0m\u001b[0mcost\u001b[0m\u001b[0;34m.\u001b[0m\u001b[0mshape\u001b[0m \u001b[0;34m==\u001b[0m \u001b[0;34m(\u001b[0m\u001b[0;34m)\u001b[0m\u001b[0;34m)\u001b[0m\u001b[0;34m\u001b[0m\u001b[0;34m\u001b[0m\u001b[0m\n\u001b[1;32m      7\u001b[0m \u001b[0;34m\u001b[0m\u001b[0m\n",
      "\u001b[0;31mValueError\u001b[0m: operands could not be broadcast together with shapes (6,1080) (16,1080) "
     ]
    }
   ],
   "source": [
    "predict(params,5, nL, X_train[1], Y_train[1])\n"
   ]
  },
  {
   "cell_type": "code",
   "execution_count": null,
   "metadata": {},
   "outputs": [],
   "source": [
    "AL = np.array([[2,3],[5,6],[8,9]])\n",
    "\n",
    "A = np.zeros(AL.shape)\n",
    "t = np.argmax(AL, axis=0)\n",
    "index = 0 \n",
    "for i in t:\n",
    "    A[i, index] = 1 \n",
    "    index+=1\n",
    "print(A)"
   ]
  },
  {
   "cell_type": "code",
   "execution_count": 106,
   "metadata": {},
   "outputs": [],
   "source": [
    "def predict_model(param, no_of_layers, nL, X, Y):\n",
    "\n",
    "    \n",
    "        results={\"A0\":X}\n",
    "    \n",
    "        Z = {}\n",
    "        cost =[]\n",
    "        #initializing parameters:\n",
    "\n",
    "   \n",
    "        for l in range(1, no_of_layers-1):\n",
    "            \n",
    "            #initialization of parameters \n",
    "            W = param[\"W\" + str(l)]\n",
    "            b = param[\"b\" + str(l)]\n",
    "\n",
    "            #forward propogation \n",
    "            Z[\"Z\"+ str(l)] = forward_prop(results[\"A\" + str(l-1)], W, b)\n",
    "            results[\"A\"+ str(l)] = activation_function( Z[\"Z\"+str(l)], activation=\"relu\")\n",
    "            ##################################\n",
    "            '''\n",
    "            z = Z[\"Z\"+ str(l)] \n",
    "            As = results[\"A\"+ str(l)]\n",
    "            y = z.shape\n",
    "            a_shape = As.shape\n",
    "            print(\"Z\"+str(l)+\" = \"+ str(y))\n",
    "            print(\"A\"+str(l)+\" = \"+ str(a_shape))\n",
    "            '''\n",
    "                \n",
    "\n",
    "            ################################\n",
    "        Z[\"Z\" + str(no_of_layers-1)] = forward_prop(results[\"A\" + str(no_of_layers-2 )], param[\"W\"+str(no_of_layers-1)], param[\"b\"+str(no_of_layers-1)])\n",
    "        results[\"A\"+ str(no_of_layers-1)] = activation_function( Z[\"Z\"+ str(no_of_layers-1)], activation=\"softmax\")\n",
    "        \n",
    "            ##############################\n",
    "        '''\n",
    "        z = Z[\"Z\"+ str(no_of_layers-1)] \n",
    "        As = results[\"A\"+ str(no_of_layers-1)]\n",
    "        y = z.shape\n",
    "        a_shape = As.shape\n",
    "        print(\"Z\"+str(no_of_layers-1)+\" = \"+ str(y))\n",
    "        print(\"A\"+str(no_of_layers-1)+\" = \"+ str(a_shape))\n",
    "        '''\n",
    "\n",
    "        \n",
    "\n",
    "            #################################\n",
    "        #finding cost:\n",
    "\n",
    "        cost_ = cost_function(results[\"A\"+ str(no_of_layers-1)], Y)\n",
    "        cost.append(cost_)\n",
    "        print(cost_)\n",
    "\n"
   ]
  },
  {
   "cell_type": "code",
   "execution_count": 108,
   "metadata": {},
   "outputs": [
    {
     "name": "stdout",
     "output_type": "stream",
     "text": [
      "1.7917593736006685\n"
     ]
    }
   ],
   "source": [
    "predict_model(params,6, nL, X_test, Y_test )"
   ]
  },
  {
   "cell_type": "code",
   "execution_count": null,
   "metadata": {},
   "outputs": [],
   "source": []
  }
 ],
 "metadata": {
  "kernelspec": {
   "display_name": "Python 3",
   "language": "python",
   "name": "python3"
  },
  "language_info": {
   "codemirror_mode": {
    "name": "ipython",
    "version": 3
   },
   "file_extension": ".py",
   "mimetype": "text/x-python",
   "name": "python",
   "nbconvert_exporter": "python",
   "pygments_lexer": "ipython3",
   "version": "3.7.6"
  }
 },
 "nbformat": 4,
 "nbformat_minor": 4
}
